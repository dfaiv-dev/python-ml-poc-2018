{
 "cells": [
  {
   "cell_type": "markdown",
   "metadata": {},
   "source": [
    "# Import Data"
   ]
  },
  {
   "cell_type": "code",
   "execution_count": null,
   "metadata": {
    "collapsed": true
   },
   "outputs": [],
   "source": [
    "import os\n",
    "\n",
    "import pandas\n",
    "\n",
    "try:\n",
    "    cwd = os.path.dirname(os.path.realpath(__file__))\n",
    "except NameError:\n",
    "    cwd = os.getcwd()\n",
    "    \n",
    "training_data_dir = os.path.join(cwd, 'training_data/dumps/gis_pps_corn_grps')\n",
    "training_data_name = 'gis_pps_cells_corn_2016__grp80158_sample_400k'\n",
    "output_dir = os.path.join(cwd, 'results/_scratch')\n",
    "temp_dir = os.path.join(cwd, '_temp')\n",
    "run_id = 'dev'\n",
    "\n",
    "result_dir = os.path.join(output_dir, run_id)\n",
    "print(f\"result_dir: {result_dir}\")\n",
    "os.makedirs(result_dir, exist_ok=True)\n",
    "\n",
    "print(f\"temp_dir: {temp_dir}\")\n",
    "os.makedirs(temp_dir, exist_ok=True)\n",
    "\n",
    "print(f\"opts: \")\n",
    "print({\n",
    "    'training_data_dir': training_data_dir,\n",
    "    'training_data_name': training_data_name,\n",
    "    'output_dir': output_dir,\n",
    "    'temp_dir': temp_dir,\n",
    "    'result_dir': result_dir,\n",
    "    'pwd': os.getcwd()\n",
    "})\n",
    "\n",
    "\n",
    "def _get_encoded_file_name(file_suffix: str, sep='__') -> str:\n",
    "    return f\"{training_data_name}{sep}{file_suffix}\"\n",
    "\n",
    "\n",
    "def _get_result_file_path(file_suffix: str, sep='__') -> str:\n",
    "    return os.path.join(\n",
    "        result_dir,\n",
    "        _get_encoded_file_name(file_suffix, sep))\n",
    "\n",
    "\n",
    "def _get_training_data_path(file_suffix: str, sep='__') -> str:\n",
    "    return os.path.join(\n",
    "        training_data_dir,\n",
    "        _get_encoded_file_name(file_suffix, sep))\n",
    "\n",
    "\n",
    "df_path = _get_training_data_path('df.pickle.gz')\n",
    "print(f\"reading pandas df: {df_path}\")\n",
    "\n",
    "df: pandas.DataFrame = pandas.read_pickle(df_path)"
   ]
  },
  {
   "cell_type": "code",
   "execution_count": null,
   "metadata": {},
   "outputs": [],
   "source": [
    "df"
   ]
  }
 ],
 "metadata": {
  "kernelspec": {
   "display_name": "Python 2",
   "language": "python",
   "name": "python2"
  },
  "language_info": {
   "codemirror_mode": {
    "name": "ipython",
    "version": 2
   },
   "file_extension": ".py",
   "mimetype": "text/x-python",
   "name": "python",
   "nbconvert_exporter": "python",
   "pygments_lexer": "ipython2",
   "version": "2.7.6"
  }
 },
 "nbformat": 4,
 "nbformat_minor": 0
}
