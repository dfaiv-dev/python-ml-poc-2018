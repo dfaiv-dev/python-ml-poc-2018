{
 "cells": [
  {
   "cell_type": "markdown",
   "metadata": {},
   "source": [
    "# pull in data"
   ]
  },
  {
   "cell_type": "code",
   "execution_count": null,
   "metadata": {
    "collapsed": true
   },
   "outputs": [],
   "source": [
    "import os\n",
    "\n",
    "try:\n",
    "    cwd = os.path.dirname(os.path.realpath(__file__))\n",
    "except NameError:\n",
    "    cwd = os.getcwd()\n",
    "    \n",
    "training_data_dir = os.path.join(cwd, 'training_data/dumps/gis_pps_corn_grps')\n",
    "training_data_name = 'gis_pps_cells_corn_2016__grp80158_sample_400k'\n",
    "output_dir = os.path.join(cwd, 'results/_scratch')\n",
    "temp_dir = os.path.join(cwd, '_temp')\n",
    "run_id = 'dev'"
   ]
  }
 ],
 "metadata": {
  "kernelspec": {
   "display_name": "Python 3",
   "language": "python",
   "name": "python3"
  },
  "language_info": {
   "codemirror_mode": {
    "name": "ipython",
    "version": 3
   },
   "file_extension": ".py",
   "mimetype": "text/x-python",
   "name": "python",
   "nbconvert_exporter": "python",
   "pygments_lexer": "ipython3",
   "version": "3.6.4"
  }
 },
 "nbformat": 4,
 "nbformat_minor": 1
}
